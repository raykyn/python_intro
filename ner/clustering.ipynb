{
 "cells": [
  {
   "cell_type": "code",
   "execution_count": null,
   "metadata": {},
   "outputs": [],
   "source": [
    "%pip install -U Levenshtein numpy scikit-learn matplotlib"
   ]
  },
  {
   "cell_type": "code",
   "execution_count": null,
   "metadata": {},
   "outputs": [],
   "source": [
    "import Levenshtein\n",
    "import numpy as np\n",
    "from sklearn.cluster import AgglomerativeClustering, SpectralClustering, DBSCAN, AffinityPropagation, KMeans"
   ]
  },
  {
   "cell_type": "code",
   "execution_count": null,
   "metadata": {},
   "outputs": [],
   "source": [
    "# List of words\n",
    "words = [\n",
    "    \"bapiermacher\", \"bapirmachers\", \"bapismachers\", \"bappermachers\", \"bappiomachers\",\n",
    "    \"bappirmacher\", \"bappirmachers\", \"bappismacher\", \"cappirmacher\", \"capyrmacher\",\n",
    "    \"papirmacher\", \"papitmacher\", \"barethemacher\", \"barethmacher\", \"baretlimacher\",\n",
    "    \"baretlinmacherin\", \"barettleinmacher\", \"barettlinmacherin\", \"bartlimacher\", \"byrettlimacher\",\n",
    "    \"paretlimacherin\", \"paretthmachers\", \"partlimacher\",\n",
    "    \"bechtrucker\", \"bechtruckher\", \"buch trucker\", \"buchbrucker\", \"buchdrucke\",\n",
    "    \"buchdrucker\", \"buchdruckher\", \"buchtruckerher\", \"buchtrucken\",\n",
    "    \"buchtrucker\", \"buchtruckers\", \"buchtruckher\", \"buchtruckhers\",\n",
    "    \"buchtruker\", \"buchtucker\", \"büchtrucker\", \"büchtruckher\",\n",
    "    \"schuch machers\", \"schuchma chers\", \"schuchmacher\", \"schuchmacheren\", \"schuchmachers\",\n",
    "    \"schue macher\", \"schuema cher\", \"schuemache\", \"schuemacher\", \"schuemachern\",\n",
    "    \"schuemachers\", \"schuengcher\", \"schuenmacher\", \"schuhemachers\", \"schuhma cher\",\n",
    "    \"schuhmacher\", \"schuhmacherbede\", \"schuhmacheren\", \"schuhmachern\", \"schuhmachers\",\n",
    "    \"schuhmercher\", \"schumachen\", \"schumacher\", \"schumachere\", \"schumacherin\",\n",
    "    \"schumachern\", \"schumachers\", \"schumacker\", \"schuo macher\", \"schuomacher\",\n",
    "    \"schuomachers\", \"sischmacher\", \"thischmacher\", \"thischmachers\", \"tischmacher\",\n",
    "    \"tischmachers\", \"tschmacher\", \"tyschmacher\", \"vischmacher\", \"vischmachers\"\n",
    "]\n"
   ]
  },
  {
   "cell_type": "code",
   "execution_count": null,
   "metadata": {},
   "outputs": [],
   "source": [
    "\n",
    "# Compute Levenshtein distance matrix\n",
    "def levenshtein_distance_matrix(words):\n",
    "    n = len(words)\n",
    "    matrix = np.zeros((n, n))\n",
    "    for i in range(n):\n",
    "        for j in range(i+1, n):\n",
    "            distance = Levenshtein.distance(words[i], words[j])\n",
    "            matrix[i][j] = distance\n",
    "            matrix[j][i] = distance\n",
    "    return matrix\n",
    "\n",
    "distance_matrix = levenshtein_distance_matrix(words)"
   ]
  },
  {
   "cell_type": "code",
   "execution_count": null,
   "metadata": {},
   "outputs": [],
   "source": [
    "import matplotlib.pyplot as plt\n",
    "from sklearn.manifold import MDS\n",
    "\n",
    "# 2D Visualization using MDS\n",
    "mds = MDS(n_components=2, dissimilarity='precomputed', random_state=42)\n",
    "points_2d = mds.fit_transform(distance_matrix)\n",
    "\n",
    "plt.figure(figsize=(40, 24))\n",
    "for i, word in enumerate(words):\n",
    "    plt.scatter(points_2d[i, 0], points_2d[i, 1])\n",
    "    plt.text(points_2d[i, 0] + 0.1, points_2d[i, 1] + 0.1, word, fontsize=14)\n",
    "\n",
    "plt.title(\"2D Visualization of Word Clusters\")\n",
    "plt.show()\n"
   ]
  },
  {
   "cell_type": "code",
   "execution_count": null,
   "metadata": {},
   "outputs": [],
   "source": [
    "# Select clustering algorithm\n",
    "CLUSTERING_ALGO = \"Affinity\"  # Options: \"Agglomerative\", \"Spectral\", \"DBSCAN\", \"Affinity\", \"KMeans\"\n",
    "num_clusters = 5  # Used for some algorithms"
   ]
  },
  {
   "cell_type": "code",
   "execution_count": null,
   "metadata": {},
   "outputs": [],
   "source": [
    "if CLUSTERING_ALGO == \"Agglomerative\":\n",
    "    clustering = AgglomerativeClustering(n_clusters=num_clusters, affinity='precomputed', linkage='complete')\n",
    "elif CLUSTERING_ALGO == \"Spectral\":\n",
    "    similarity_matrix = np.exp(-distance_matrix / np.std(distance_matrix))  # Convert distance to similarity\n",
    "    clustering = SpectralClustering(n_clusters=num_clusters, affinity='precomputed')\n",
    "elif CLUSTERING_ALGO == \"DBSCAN\":\n",
    "    clustering = DBSCAN(metric='precomputed', eps=3, min_samples=2)\n",
    "elif CLUSTERING_ALGO == \"Affinity\":\n",
    "    similarity_matrix = np.exp(-distance_matrix / np.std(distance_matrix))\n",
    "    clustering = AffinityPropagation(affinity='precomputed', random_state=42)\n",
    "else:\n",
    "    raise ValueError(\"Invalid clustering algorithm chosen.\")\n",
    "\n",
    "labels = clustering.fit_predict(distance_matrix if CLUSTERING_ALGO not in [\"Spectral\", \"Affinity\"] else similarity_matrix)\n",
    "num_clusters = len(set(labels))  # Update num_clusters based on actual number of clusters found"
   ]
  },
  {
   "cell_type": "code",
   "execution_count": null,
   "metadata": {},
   "outputs": [],
   "source": [
    "# Find central terms\n",
    "central_terms = []\n",
    "\n",
    "for i in range(num_clusters):\n",
    "    # Get indices of words in current cluster\n",
    "    cluster_indices = np.where(labels == i)[0]\n",
    "    \n",
    "    # Get distance submatrix for current cluster\n",
    "    cluster_distances = distance_matrix[cluster_indices][:, cluster_indices]\n",
    "    \n",
    "    # Calculate average distance for each word to all other words in cluster\n",
    "    avg_distances = np.mean(cluster_distances, axis=1)\n",
    "    \n",
    "    # Find word with minimum average distance\n",
    "    if len(cluster_indices) == 1:\n",
    "        central_terms.append(words[cluster_indices[0]])\n",
    "        continue\n",
    "    if len(cluster_indices) == 0:\n",
    "        central_terms.append(\"\")\n",
    "        continue\n",
    "    central_index = cluster_indices[np.argmin(avg_distances)]\n",
    "    central_terms.append(words[central_index])"
   ]
  },
  {
   "cell_type": "code",
   "execution_count": null,
   "metadata": {},
   "outputs": [],
   "source": [
    "# Print cluster results\n",
    "clusters = {i: [] for i in range(num_clusters)}\n",
    "\n",
    "for word, label in zip(words, labels):\n",
    "    clusters[label].append(word)\n",
    "\n",
    "for i in range(num_clusters):\n",
    "    print(f\"Cluster {i + 1}: {clusters[i]}\")\n",
    "    print(f\"Most central term: {central_terms[i]}\\n\")"
   ]
  },
  {
   "cell_type": "code",
   "execution_count": null,
   "metadata": {},
   "outputs": [],
   "source": [
    "import matplotlib.pyplot as plt\n",
    "from sklearn.manifold import MDS\n",
    "\n",
    "# 2D Visualization using MDS\n",
    "mds = MDS(n_components=2, dissimilarity='precomputed', random_state=42)\n",
    "points_2d = mds.fit_transform(distance_matrix)\n",
    "\n",
    "plt.figure(figsize=(40, 24))\n",
    "colors = ['red', 'blue', 'green', 'purple', 'orange', 'brown', 'pink', 'gray', 'olive', 'cyan', 'black', 'darkblue']\n",
    "for i, word in enumerate(words):\n",
    "    plt.scatter(points_2d[i, 0], points_2d[i, 1], color=colors[labels[i]], label=f\"Cluster {labels[i]+1}\" if f\"Cluster {labels[i]+1}\" not in plt.gca().get_legend_handles_labels()[1] else \"\")\n",
    "    plt.text(points_2d[i, 0] + 0.1, points_2d[i, 1] + 0.1, word, fontsize=18)\n",
    "\n",
    "plt.title(\"2D Visualization of Word Clusters\")\n",
    "plt.legend()\n",
    "plt.show()\n"
   ]
  },
  {
   "cell_type": "code",
   "execution_count": null,
   "metadata": {},
   "outputs": [],
   "source": [
    "%pip install -U plotly"
   ]
  },
  {
   "cell_type": "code",
   "execution_count": null,
   "metadata": {},
   "outputs": [],
   "source": [
    "import plotly.express as px\n",
    "import numpy as np\n",
    "from sklearn.manifold import MDS\n",
    "\n",
    "# 3D Visualization using MDS\n",
    "mds = MDS(n_components=3, dissimilarity='precomputed', random_state=42)\n",
    "points_3d = mds.fit_transform(distance_matrix)\n",
    "\n",
    "# Create DataFrame for plotting\n",
    "import pandas as pd\n",
    "df = pd.DataFrame(points_3d, columns=['x', 'y', 'z'])\n",
    "df['word'] = words\n",
    "df['cluster'] = labels\n",
    "\n",
    "# Define a list of distinct colors\n",
    "distinct_colors = ['red', 'blue', 'green', 'purple', 'orange', 'brown', 'pink', 'gray', 'olive', 'cyan', 'black', 'darkblue']\n",
    "\n",
    "# Create an interactive 3D scatter plot\n",
    "fig = px.scatter_3d(df, x='x', y='y', z='z', color='cluster', text='word', \n",
    "                    title=\"3D Visualization of Word Clusters\",\n",
    "                    labels={'cluster': 'Cluster'}, \n",
    "                    color_discrete_sequence=distinct_colors)\n",
    "\n",
    "# Save the plot as an HTML file\n",
    "fig.write_html(\"3d_word_clusters_distinct_colors.html\")"
   ]
  }
 ],
 "metadata": {
  "kernelspec": {
   "display_name": "Python 3",
   "language": "python",
   "name": "python3"
  },
  "language_info": {
   "codemirror_mode": {
    "name": "ipython",
    "version": 3
   },
   "file_extension": ".py",
   "mimetype": "text/x-python",
   "name": "python",
   "nbconvert_exporter": "python",
   "pygments_lexer": "ipython3",
   "version": "3.10.13"
  }
 },
 "nbformat": 4,
 "nbformat_minor": 2
}
