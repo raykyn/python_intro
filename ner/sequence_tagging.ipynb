{
 "cells": [
  {
   "cell_type": "code",
   "execution_count": null,
   "metadata": {},
   "outputs": [],
   "source": [
    "# Installiere die notwendigen Pakete\n",
    "%pip install -U flair"
   ]
  },
  {
   "cell_type": "code",
   "execution_count": null,
   "metadata": {},
   "outputs": [],
   "source": [
    "import pathlib\n",
    "temp = pathlib.PosixPath\n",
    "pathlib.PosixPath = pathlib.WindowsPath"
   ]
  },
  {
   "cell_type": "code",
   "execution_count": null,
   "metadata": {},
   "outputs": [],
   "source": [
    "# Importiere die notwendigen Bibliotheken\n",
    "from flair.data import Sentence\n",
    "from flair.models import SequenceTagger\n",
    "\n",
    "# Lade ein Modell\n",
    "#tagger = SequenceTagger.load(\"flair/ner-german\")\n",
    "tagger = SequenceTagger.load(\"dh-unibe/hgb-ner-v1\")\n",
    "\n",
    "pathlib.PosixPath = temp"
   ]
  },
  {
   "cell_type": "code",
   "execution_count": null,
   "metadata": {},
   "outputs": [],
   "source": [
    "# Definiere den Text in Frühneuhochdeutsch\n",
    "text = \"Privat-Urkunde. Hanns Volcker der Gerwer Burger zu Basel und Rungold sin Eefrow verkaufen dem Rath der Statt Basel drithalb Pfunt Geltz jerlichs Zinses, von uff und ab dem Zweyteil ires Huss und Hoffstats und eigner Mangi, als das zu Basel dem Lumelbronnen gegen der Herrn Trinkstuben zum Sufftzen Tüberwüschen den Hüseren zum Enkern und fgen Huse gelegen, und ouch zum Huss zum Enker genant ist, zinst das gantz Hus von Eigenschafft Sant Anthonien Ordens Huss zu Basel 4 Guldin, hieran zinst die alte Appenteck von eins Gangs wegen, so von dissem Huss durch der alten Appenteck Garten gangen ist, in das Tottengesslin, 1 G. dem Augustinercloster z. B. 49 die Mangy ist ledig eigen, um 50 ℔. Kouptgutz.\"\n",
    "\n",
    "# Erstelle ein Satzobjekt\n",
    "sentence = Sentence(text)\n",
    "\n",
    "# Annotiere den Satz\n",
    "tagger.predict(sentence)\n",
    "\n",
    "# Zeige die Annotationen\n",
    "for entity in sentence.get_spans(\"ner\"):\n",
    "    print(entity)"
   ]
  },
  {
   "cell_type": "code",
   "execution_count": null,
   "metadata": {},
   "outputs": [],
   "source": []
  }
 ],
 "metadata": {
  "kernelspec": {
   "display_name": "pygame",
   "language": "python",
   "name": "python3"
  },
  "language_info": {
   "codemirror_mode": {
    "name": "ipython",
    "version": 3
   },
   "file_extension": ".py",
   "mimetype": "text/x-python",
   "name": "python",
   "nbconvert_exporter": "python",
   "pygments_lexer": "ipython3",
   "version": "3.11.5"
  }
 },
 "nbformat": 4,
 "nbformat_minor": 2
}
