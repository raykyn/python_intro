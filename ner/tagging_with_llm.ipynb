{
 "cells": [
  {
   "cell_type": "code",
   "execution_count": null,
   "metadata": {},
   "outputs": [],
   "source": [
    "%pip install -q -U google-genai"
   ]
  },
  {
   "cell_type": "code",
   "execution_count": null,
   "metadata": {},
   "outputs": [],
   "source": [
    "from google import genai\n",
    "\n",
    "prompt = \"\"\"\n",
    "    You are a historian who has been asked to annotate the following text.\n",
    "\n",
    "    The text is as follows:\n",
    "    \n",
    "\"\"\"\n",
    "\n",
    "text = \"Privat-Urkunde. Hanns Volcker der Gerwer Burger zu Basel und Rungold sin Eefrow verkaufen dem Rath der Statt Basel drithalb Pfunt Geltz jerlichs Zinses, von uff und ab dem Zweyteil ires Huss und Hoffstats und eigner Mangi, als das zu Basel dem Lumelbronnen gegen der Herrn Trinkstuben zum Sufftzen Tüberwüschen den Hüseren zum Enkern und fgen Huse gelegen, und ouch zum Huss zum Enker genant ist, zinst das gantz Hus von Eigenschafft Sant Anthonien Ordens Huss zu Basel 4 Guldin, hieran zinst die alte Appenteck von eins Gangs wegen, so von dissem Huss durch der alten Appenteck Garten gangen ist, in das Tottengesslin, 1 G. dem Augustinercloster z. B. 49 die Mangy ist ledig eigen, um 50 ℔. Kouptgutz.\"\n",
    "\n",
    "client = genai.Client(api_key=\"\")\n",
    "response = client.models.generate_content(\n",
    "    model=\"gemini-2.0-flash\", contents=prompt + text\n",
    ")\n",
    "print(response.text)\n"
   ]
  },
  {
   "cell_type": "code",
   "execution_count": null,
   "metadata": {},
   "outputs": [],
   "source": []
  },
  {
   "cell_type": "code",
   "execution_count": null,
   "metadata": {},
   "outputs": [],
   "source": []
  }
 ],
 "metadata": {
  "kernelspec": {
   "display_name": "pygame",
   "language": "python",
   "name": "python3"
  },
  "language_info": {
   "codemirror_mode": {
    "name": "ipython",
    "version": 3
   },
   "file_extension": ".py",
   "mimetype": "text/x-python",
   "name": "python",
   "nbconvert_exporter": "python",
   "pygments_lexer": "ipython3",
   "version": "3.11.5"
  }
 },
 "nbformat": 4,
 "nbformat_minor": 2
}
