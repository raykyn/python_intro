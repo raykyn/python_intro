{
 "cells": [
  {
   "cell_type": "markdown",
   "metadata": {},
   "source": [
    "# Das DH Intro in Python\n",
    "\n",
    "In diesem Tutorial-Notebook werden wir einige Teile des DH Intros mit Python umsetzen.\n",
    "\n",
    "Erinnerung zur Notebook-Benutzung:\n",
    "Ihr könnt Zellen mit dem Play-Button ausführen, oder mit Ctrl+Enter (Cmd+Enter für Mac?). Ihr könnt in Zellen hineinschreiben um sie zu modifizieren und Code auszuprobieren."
   ]
  },
  {
   "cell_type": "markdown",
   "metadata": {},
   "source": [
    "## Ordnermanagement und Datensatz herunterladen\n",
    "\n",
    "In diesem ersten Abschnitt werden mithilfe von Python einen Ordner für unsere Dokumente anlegen, und dann über die API der Editionswebseite die XML-Dokumente herunterladen.\n",
    "\n",
    "Wir können mit Python auf unserem Betriebssystem ähnlich wie im Terminal Ordner erstellen, löschen, Dateien kopieren, und alles weitere.\n",
    "\n",
    "Für gewisse Funktionalitäten müssen wir in Python aber sogenannte *Packages* importieren. Wir unterscheiden dabei zwischen Packages der Standard-Bibliothek und externen Packages, die über *pip*, den Python Installer für Packages, installiert werden müssen. Packages der Standard-Bibliothek wurden zusammen mit Python bereits auf eurem Gerät installiert, damit wir ihre Funktionalität nutzen können, müssen sie aber jeweils noch *importiert* werden.\n",
    "\n",
    "Um Ordner und Dateien zu managen gibt es in Python das [*os*-Package](https://docs.python.org/3/library/os.html)."
   ]
  },
  {
   "cell_type": "code",
   "execution_count": null,
   "metadata": {},
   "outputs": [],
   "source": [
    "# Importieren des Package\n",
    "import os\n",
    "\n",
    "os.makedirs(\"docs\", exist_ok=True)\n",
    "\n",
    "# beachte das vorgestellte *os*, das anzeigt, dass wir die Funktion makedirs aus diesem Package verwenden.\n",
    "# das erste Parameter sollte ein Dateipfad sein. makedirs kann auch gleich mehrere verschachtelte Ordner erstellen.\n",
    "# falls exist_ok False wäre, würde eine Fehlermeldung ausgegeben werden, falls der Ordner bereits existiert."
   ]
  },
  {
   "cell_type": "markdown",
   "metadata": {},
   "source": [
    "Im nächsten Schritt laden wir uns denselben Datensatz herunter wie in Inas Tutorial, nämlich alle Briefe, die von Franz Marc geschrieben wurden.\n",
    "\n",
    "Dazu gehen wir folgendermassen vor:\n",
    "1. Den [Registereintrag](https://sturm-edition.de/register/personen/P.0000003.html) von Franz Marc beziehen, aber die API-Version.\n",
    "2. Darin alle Briefe auslesen, die er geschrieben hat (mit FMA markiert).\n",
    "3. Diese Briefe per API abfragen.\n",
    "\n",
    "Um Abfragen an Webseiten zu schicken, eignet sich unkompliziert das [*requests*-Package](https://requests.readthedocs.io/en/latest/). Die Standard-Bibliothek enthält zwar ein Package zur Abfrage von URL, aber empfiehlt auch, besser *requests* zu verwenden."
   ]
  },
  {
   "cell_type": "code",
   "execution_count": null,
   "metadata": {},
   "outputs": [],
   "source": [
    "# Installation eines externen Package (in einem Notebook)\n",
    "%pip install -U requests\n",
    "\n",
    "# Mit dem % führen wir statt einem Python-Command ein Terminal-Command innerhalb des Notebooks aus. Ihr könntet das auch im Terminal tun stattdessen.\n",
    "# Dieser Command lädt nun requests herunetr und installiert es auf eurem Gerät.\n",
    "# -U updatet das Package, falls es bereits installiert ist\n",
    "# Eventuell müsst ihr das Notebook nochmal neu starten (Restart bei den Notebook-Commands), damit das Package importiert werden kann."
   ]
  },
  {
   "cell_type": "code",
   "execution_count": null,
   "metadata": {},
   "outputs": [],
   "source": [
    "# Importieren des Package\n",
    "import requests\n",
    "\n",
    "# url von Franz Marcs Eintrag\n",
    "url = \"https://sturm-edition.de/api/persons/P.0000003\"\n",
    "\n",
    "# eine Abfrage schicken\n",
    "response = requests.get(url)\n",
    "\n",
    "# Überprüfen, dass die Abfrage erfolgreich war\n",
    "print(response)\n",
    "\n",
    "# 200 => Erfolg"
   ]
  },
  {
   "cell_type": "code",
   "execution_count": null,
   "metadata": {},
   "outputs": [],
   "source": [
    "# Die erhaltene Datei ansehen\n",
    "print(response.text)"
   ]
  },
  {
   "cell_type": "markdown",
   "metadata": {},
   "source": [
    "Wir haben hier eine XML-Datei erhalten. Unter *linkGrp* finden wir *ptr*-Elemente, die auf die relevanten Briefdateien verweisen. Wir wollen aber nur jene, die von Franz Marc geschrieben wurden, also filtern wir den Dateinamen noch auf \"FMA\".\n",
    "\n",
    "Um XML zu verarbeiten, empfehle ich das externe Package [lxml](https://lxml.de/)."
   ]
  },
  {
   "cell_type": "code",
   "execution_count": null,
   "metadata": {},
   "outputs": [],
   "source": [
    "# Installiere lxml\n",
    "%pip install -U lxml"
   ]
  },
  {
   "cell_type": "code",
   "execution_count": null,
   "metadata": {},
   "outputs": [],
   "source": [
    "# Importiere das ElementTree-Subpackage von lxml und benenne es \"et\" für den Rest des Codes\n",
    "from lxml import etree as et\n",
    "\n",
    "# Lese den Text der Abfrage ein, um einen ElementTree zu bauen\n",
    "root = et.fromstring(response.text)"
   ]
  },
  {
   "cell_type": "code",
   "execution_count": null,
   "metadata": {},
   "outputs": [],
   "source": [
    "# Suche nach allen ptr-Elementen, die \"FMA\" als text enthalten.\n",
    "fma_letters = root.xpath(\"./tei:linkGrp/tei:ptr[contains(@target,'FMA')]\", namespaces={\"tei\":\"http://www.tei-c.org/ns/1.0\"})\n",
    "\n",
    "print(len(fma_letters), \"letters found.\")"
   ]
  },
  {
   "cell_type": "markdown",
   "metadata": {},
   "source": [
    "Schliesslich fragen wir die Briefe ab und legen sie in unser vorher angelegtes Verzeichnis, damit wir nicht jedes Mal die API abfragen müssen, wenn wir mit den Briefen arbeiten möchten."
   ]
  },
  {
   "cell_type": "code",
   "execution_count": null,
   "metadata": {},
   "outputs": [],
   "source": [
    "# Iteriere alle ptr-Elemente\n",
    "for letter in fma_letters:\n",
    "\n",
    "    # Mit get erhalten wir den Wert des Dateinamen-Attributs aus dem Element\n",
    "    filename = letter.get(\"target\")\n",
    "\n",
    "    # Abfrage schicken für den Brief\n",
    "    response = requests.get(\"https://sturm-edition.de/api/files/\" + filename)\n",
    "\n",
    "    # Schreiben des XML in eine Datei im Ordner von vorher\n",
    "    with open(\"docs/\" + filename, mode=\"w\", encoding=\"utf8\") as out:\n",
    "        out.write(response.text)\n"
   ]
  },
  {
   "cell_type": "markdown",
   "metadata": {},
   "source": [
    "Perfekt, alle Briefe sollten nun im \"docs\"-Ordner liegen!"
   ]
  },
  {
   "cell_type": "markdown",
   "metadata": {},
   "source": [
    "## Suche mit Regex\n",
    "In diesem Abschnitt replizieren wir kurz die Suche per regex innerhalb von Python.\n",
    "Um mit Regex zu suchen, gibt es in Python das [*re*-Package](https://docs.python.org/3/library/re.html) der Standard-Bibliothek, oder das externe *regex*-Package, das weitere Funktionalität bietet (die man aber eher selten benötigt). Für unsere Zwecke hier reicht *re*."
   ]
  },
  {
   "cell_type": "code",
   "execution_count": null,
   "metadata": {},
   "outputs": [],
   "source": [
    "# Importiere re\n",
    "import re\n",
    "\n",
    "# Um es einfach zu testen, können wir z.B. den Text aller Briefe auslesen und diesen zusammennehmen, dann durchsuchen\n",
    "# das glob-Modul holt uns alle Dateien innerhalb eines bestimmten Ordners\n",
    "import glob\n",
    "all_text = \"\"\n",
    "for letter in glob.glob(\"docs/*.xml\"):\n",
    "    all_text += open(letter, mode=\"r\", encoding=\"utf8\").read()\n",
    "\n",
    "# Suche nach verschiedenen Schreibweisen von \"Grüsse\", mit einer Flag um Gross- und Kleinschreibung zu ignorieren\n",
    "matches = re.findall(\"Gr[u|ü][ß|ss]\\w*\", all_text, flags=re.I)\n",
    "\n",
    "# Welche Schreibweisen gibt es?\n",
    "variants = set(matches)\n",
    "print(variants)"
   ]
  },
  {
   "cell_type": "markdown",
   "metadata": {},
   "source": [
    "Im Gegensatz zu Ina's Tutorial erhalten wir hier nicht die ganze Zeile. Aber wenn wir mehr Kontext möchten, z.B. die ganze Grussformel, dann tun wir das ohnehin besser indem wir die XML-Annotation nutzen."
   ]
  },
  {
   "cell_type": "markdown",
   "metadata": {},
   "source": [
    "## Suche im XML\n",
    "Hier gehen wir nun einen Schritt weiter als im letzten Tutorial. Wir verwenden erneut lxml und suchen damit nach den Grussformeln im Schlussteil, die in dieser Edition einheitlich mit dem Tag *salute* im *closer* gekennzeichnet sind."
   ]
  },
  {
   "cell_type": "code",
   "execution_count": null,
   "metadata": {},
   "outputs": [],
   "source": [
    "# nochmal importieren, falls ihr das Notebook neu gestartet habt\n",
    "from lxml import etree as et\n",
    "import glob\n",
    "import re\n",
    "\n",
    "# wir sammeln alle Grussformeln in dieser Liste\n",
    "salutations = []\n",
    "\n",
    "for letter in glob.glob(\"docs/*.xml\"):\n",
    "    # diesmal lesen wir direkt eine Datei ein, keinen String\n",
    "    tree = et.parse(letter)\n",
    "    root = tree.getroot()\n",
    "    \n",
    "    # suche nach den salute-Events, aber nur im Textkörper\n",
    "    salutes = root.xpath(\"./tei:text/tei:body/tei:div[@type='content']//tei:closer/tei:salute\", namespaces={\"tei\":\"http://www.tei-c.org/ns/1.0\"})\n",
    "\n",
    "    for salute in salutes:\n",
    "        # Aufräumen der Whitespaces\n",
    "        salute_text = re.sub(r\"\\s*\\n\\s*\", \" \", salute.text)\n",
    "        salutations.append(salute_text)\n",
    "\n",
    "print(salutations)"
   ]
  },
  {
   "cell_type": "code",
   "execution_count": null,
   "metadata": {},
   "outputs": [],
   "source": [
    "# Wie oft wird wie gegrüsst?\n",
    "from collections import Counter\n",
    "\n",
    "counts = Counter(salutations)\n",
    "\n",
    "for salute, count in counts.most_common():\n",
    "    print(salute, count)"
   ]
  },
  {
   "cell_type": "markdown",
   "metadata": {},
   "source": [
    "### Noch ein letzter Hinweis\n",
    "\n",
    "Ein wichtiger Hinweis noch zur Verwendung von *.text* um den Text aus XML-Elementen abzufragen. Hierbei ist zu beachten, dass dies nur den unmittelbaren Text erfasst, ohne verschachtelte Elemente zu beachten. Wenn z.B. der gesamte Text inklusive verschachtelten Elementen gewünscht ist, eignet sich *et.tostring(salute, method=\"text\", encoding=\"utf8\", with_tail=False).decode(\"utf8\")* gut."
   ]
  },
  {
   "cell_type": "markdown",
   "metadata": {},
   "source": []
  }
 ],
 "metadata": {
  "kernelspec": {
   "display_name": "base",
   "language": "python",
   "name": "python3"
  },
  "language_info": {
   "codemirror_mode": {
    "name": "ipython",
    "version": 3
   },
   "file_extension": ".py",
   "mimetype": "text/x-python",
   "name": "python",
   "nbconvert_exporter": "python",
   "pygments_lexer": "ipython3",
   "version": "3.7.6"
  }
 },
 "nbformat": 4,
 "nbformat_minor": 2
}
