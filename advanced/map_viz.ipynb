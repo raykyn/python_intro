{
 "cells": [
  {
   "cell_type": "markdown",
   "metadata": {},
   "source": [
    "# Kartenvisualisierung\n",
    "In diesem Notebook wird demonstriert, wie in Python eine Kartenvisualisierung möglich ist.\n",
    "\n",
    "Wir stützen uns dabei auf die Tabelle, die im xml_to_table-Skript erstellt wurde."
   ]
  },
  {
   "cell_type": "markdown",
   "metadata": {},
   "source": [
    "## Koordinaten hinzufügen\n",
    "Da unsere Tabelle zwar die Keys der Orte enthält, aber nicht die IDs, müssen wir nochmal die API bemühen, um die Koordinaten zu erhalten."
   ]
  },
  {
   "cell_type": "code",
   "execution_count": null,
   "metadata": {},
   "outputs": [],
   "source": [
    "import pandas as pd\n",
    "\n",
    "# Einlesen der Tabelle\n",
    "df = pd.read_csv('places.csv')\n",
    "\n",
    "print(df.head)"
   ]
  },
  {
   "cell_type": "code",
   "execution_count": null,
   "metadata": {},
   "outputs": [],
   "source": [
    "# wir wollen nicht Orte mehrmals abfragen, auch um den Editions-Server zu schonen\n",
    "# also machen wir erstmal eine Liste aller einzigartigen Orts-Keys\n",
    "unique_place_keys = df['place_key'].unique().tolist()\n",
    "\n",
    "print(unique_place_keys)"
   ]
  },
  {
   "cell_type": "code",
   "execution_count": null,
   "metadata": {},
   "outputs": [],
   "source": [
    "# Abfrage der API\n",
    "import requests\n",
    "from lxml import etree as et\n",
    "\n",
    "# wir möchten ein mapping erstellen, in dem für jeden Key eine Latitude und eine Longitude Koordinate gefunden werden.\n",
    "key_to_coordinates = {}\n",
    "\n",
    "for place_key in unique_place_keys:\n",
    "    response = requests.get(\"https://sturm-edition.de/api/places/\" + place_key)\n",
    "    xml = et.fromstring(response.text)\n",
    "    location = xml.xpath(\"./tei:location/tei:geo\", namespaces={\"tei\":\"http://www.tei-c.org/ns/1.0\"})[0]\n",
    "    if location is not None:\n",
    "        latitude, longitude = location.text.split()\n",
    "        key_to_coordinates[place_key] = (latitude, longitude)\n",
    "    else:\n",
    "        # falls keine Koordinaten hinterlegt sind\n",
    "        key_to_coordinates[place_key] = (None, None)\n",
    "\n",
    "print(key_to_coordinates)"
   ]
  },
  {
   "cell_type": "code",
   "execution_count": null,
   "metadata": {},
   "outputs": [],
   "source": [
    "# Zurückführen der Koordinaten in Tabelle\n",
    "df[['latitude', 'longitude']] = df['place_key'].map(key_to_coordinates).apply(pd.Series)\n",
    "\n",
    "print(df)"
   ]
  },
  {
   "cell_type": "markdown",
   "metadata": {},
   "source": [
    "## Interaktive Karten mit Python\n",
    "Im Folgenden verwenden wir das externe Package [*Folium*](https://python-visualization.github.io/folium/latest/index.html), um unsere Orte in einer Karte darzustellen."
   ]
  },
  {
   "cell_type": "code",
   "execution_count": null,
   "metadata": {},
   "outputs": [],
   "source": [
    "%pip install -U folium"
   ]
  },
  {
   "cell_type": "code",
   "execution_count": null,
   "metadata": {},
   "outputs": [],
   "source": [
    "import folium\n",
    "\n",
    "# Eine Tabelle nur mit den relevanten Informationen für die Visualisierung\n",
    "places_df = df[['place_name', 'place_key', 'latitude', 'longitude']].drop_duplicates()\n",
    "\n",
    "# die Koordinaten sollten als Zahlenwerte vorliegen, wir stellen das hier nochmal sicher\n",
    "places_df['latitude'] = places_df['latitude'].astype(float)\n",
    "places_df['longitude'] = places_df['longitude'].astype(float)\n",
    "\n",
    "# Initialisieren der Karte mit Einstellungen, wo anfangs der Ausschnitt liegen soll\n",
    "m = folium.Map(location=[51.0, 10.0], zoom_start=4)\n",
    "\n",
    "# Unsere Orte auf der Karte anzeigen\n",
    "for _, row in places_df.iterrows():\n",
    "    # wir erstellen einen Marker pro Zeile in diesem Fall\n",
    "    folium.Marker(\n",
    "        location=[row['latitude'], row['longitude']],\n",
    "        popup=row[\"place_name\"],\n",
    "        tooltip=row['place_name'],\n",
    "        icon=folium.Icon(color=\"blue\", icon=\"info-sign\")\n",
    "    ).add_to(m)\n",
    "\n",
    "# Display map\n",
    "m"
   ]
  },
  {
   "cell_type": "markdown",
   "metadata": {},
   "source": [
    "### Häufigkeit repräsentieren"
   ]
  },
  {
   "cell_type": "code",
   "execution_count": null,
   "metadata": {},
   "outputs": [],
   "source": [
    "# wir zählen wie oft jeder Ort vorkommt\n",
    "place_counts = df['place_key'].value_counts().rename_axis('place_key').reset_index(name='count')\n",
    "\n",
    "# Merge zwischen dem reduzierten df und unserer Zählung\n",
    "places_df = places_df.merge(place_counts, on='place_key')\n",
    "\n",
    "print(places_df)"
   ]
  },
  {
   "cell_type": "code",
   "execution_count": null,
   "metadata": {},
   "outputs": [],
   "source": [
    "m = folium.Map(location=[51.0, 10.0], zoom_start=4)\n",
    "\n",
    "for _, row in places_df.iterrows():\n",
    "    # Wir vergrössern die Marker, falls der Ort häufiger vorkommt, aber setzen eine Maximalgrösse von 30\n",
    "    marker_size = min(10 + row[\"count\"] * 2, 30)\n",
    "    \n",
    "    folium.CircleMarker(\n",
    "        location=[row['latitude'], row['longitude']],\n",
    "        radius=marker_size,\n",
    "        color=\"blue\",\n",
    "        fill=True,\n",
    "        fill_color=\"blue\",\n",
    "        fill_opacity=0.6,\n",
    "        popup=f\"{row['place_name']}<br>Vorkommen: {row['count']}\",\n",
    "        tooltip=row['place_name']\n",
    "    ).add_to(m)\n",
    "\n",
    "# Anzeigen der Karte\n",
    "m"
   ]
  },
  {
   "cell_type": "markdown",
   "metadata": {},
   "source": [
    "### Visualisierung über Zeit\n",
    "Beachte hier, dass Folium bzw. TimestampedGeoJson leider keine Datumsangaben vor 1970 anzeigen kann, deshalb behelfen wir uns, indem wir alle Datumsangaben 100 Jahre nach hinten rücken."
   ]
  },
  {
   "cell_type": "code",
   "execution_count": null,
   "metadata": {},
   "outputs": [],
   "source": [
    "import folium\n",
    "import pandas as pd\n",
    "from folium.plugins import TimestampedGeoJson\n",
    "\n",
    "# Sicherstellen, dass Datumsangaben und Koordinaten im richtigen Format sind\n",
    "df['date'] = pd.to_datetime(df['date'])\n",
    "df['date_fitted'] = df['date'].apply(lambda x: x.replace(year=x.year + 100))\n",
    "\n",
    "df['latitude'] = df['latitude'].astype(float)\n",
    "df['longitude'] = df['longitude'].astype(float)\n",
    "\n",
    "# Alle Einträge ohne Datumsangabe entfernen\n",
    "df = df.dropna(subset=['date'])\n",
    "\n",
    "# Zeilen nach Datum sortieren\n",
    "df = df.sort_values(by='date')\n",
    "\n",
    "# Unsere Daten in GeoJSON-Format schreiben\n",
    "geojson_features = []\n",
    "for _, row in df.iterrows():\n",
    "    feature = {\n",
    "        \"type\": \"Feature\",\n",
    "        \"geometry\": {\n",
    "            \"type\": \"Point\",\n",
    "            \"coordinates\": [row[\"longitude\"], row[\"latitude\"]]\n",
    "        },\n",
    "        \"properties\": {\n",
    "            \"times\": [row[\"date_fitted\"].isoformat()],  # Convert to timestamp format\n",
    "            \"popup\": f\"{row['place_name']}<br>Datierung: {row['date']}\",\n",
    "            \"tooltip\": row[\"place_name\"]\n",
    "        }\n",
    "    }\n",
    "    geojson_features.append(feature)\n",
    "\n",
    "m = folium.Map(location=[51.0, 10.0], zoom_start=4)\n",
    "\n",
    "# Die GeoJSON-Infos der Karte hinzufügen\n",
    "TimestampedGeoJson(\n",
    "    {\n",
    "        \"type\": \"FeatureCollection\",\n",
    "        \"features\": geojson_features\n",
    "    },\n",
    "    period=\"P1M\",  # Jeder Timestep = 1 Monat\n",
    "    duration=\"P6M\",  # Punkte bleiben für 6 Monate danach noch sichtbar\n",
    "    auto_play=False  # Auto-Play abschalten\n",
    ").add_to(m)\n",
    "\n",
    "# Karte anzeigen\n",
    "m\n",
    "\n",
    "# Die Karte als Datei speichern, die wir im Browser öffnen können.\n",
    "m.save(\"time_map.html\")"
   ]
  }
 ],
 "metadata": {
  "kernelspec": {
   "display_name": "base",
   "language": "python",
   "name": "python3"
  },
  "language_info": {
   "codemirror_mode": {
    "name": "ipython",
    "version": 3
   },
   "file_extension": ".py",
   "mimetype": "text/x-python",
   "name": "python",
   "nbconvert_exporter": "python",
   "pygments_lexer": "ipython3",
   "version": "3.7.6"
  }
 },
 "nbformat": 4,
 "nbformat_minor": 2
}
