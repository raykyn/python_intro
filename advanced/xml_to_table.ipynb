{
 "cells": [
  {
   "cell_type": "markdown",
   "metadata": {},
   "source": [
    "# Von XML zur Tabelle\n",
    "In diesem Tutorial sehen wir uns an, wie wir XML-Dokumente auslesen können, und diese in eine Tabelle transformieren, mit der wir dann praktisch weiterarbeiten können. Welche Elemente wir wie ins XML übernehmen wollen, ist abhängig von der Fragestellung. In diesem Beispiel werden wir die annotierten Orte auslesen und in einer Tabelle verzeichnen. Diese Tabelle dient dann auch als Grundlage für die Kartenvisualisierung."
   ]
  },
  {
   "cell_type": "code",
   "execution_count": null,
   "metadata": {},
   "outputs": [],
   "source": [
    "# import der relevanten Bibliotheken\n",
    "from lxml import etree as et\n",
    "import glob\n",
    "import re"
   ]
  },
  {
   "cell_type": "markdown",
   "metadata": {},
   "source": [
    "Ganz spezifisch wollen wir folgende Informationen in der Tabelle verzeichnen: \n",
    "\n",
    "Metadaten zum Brief\n",
    "- Brief ID\n",
    "- Sender:in\n",
    "- Sender:in ID\n",
    "- Empfänger:in\n",
    "- Empfänger:in ID\n",
    "- Datierung\n",
    "\n",
    "Wir nehmen hier - etwas naiv - eine:n einzelne:n Sender:in / Empfänger:in an.\n",
    "\n",
    "Informationen zum gefundenen Ort:\n",
    "- Name des Orts\n",
    "- Ort ID"
   ]
  },
  {
   "cell_type": "markdown",
   "metadata": {},
   "source": [
    "Ein einfacher Weg, eine Tabelle zu bauen, ist die Informationen zuerst in einer Liste zu sammeln und die Listen dann in eine Tabelle umzuwandeln."
   ]
  },
  {
   "cell_type": "code",
   "execution_count": null,
   "metadata": {},
   "outputs": [],
   "source": [
    "rows = []\n",
    "\n",
    "for letter in glob.glob(\"docs/*.xml\"):\n",
    "    tree = et.parse(letter)\n",
    "    root = tree.getroot()\n",
    "\n",
    "    letter_id = root.get(\"{http://www.w3.org/XML/1998/namespace}id\")\n",
    "    sender = root.find(\"./tei:teiHeader/tei:profileDesc/tei:correspDesc/tei:correspAction[@type='sent']/tei:persName\", namespaces={\"tei\":\"http://www.tei-c.org/ns/1.0\"})\n",
    "    sender_name = sender.text\n",
    "    sender_id = sender.get(\"key\")\n",
    "    receiver = root.find(\"./tei:teiHeader/tei:profileDesc/tei:correspDesc/tei:correspAction[@type='received']/tei:persName\", namespaces={\"tei\":\"http://www.tei-c.org/ns/1.0\"})\n",
    "    receiver_name = receiver.text\n",
    "    receiver_id = receiver.get(\"key\")\n",
    "    letter_date = root.find(\"./tei:teiHeader/tei:profileDesc/tei:correspDesc/tei:correspAction[@type='sent']/tei:date\", namespaces={\"tei\":\"http://www.tei-c.org/ns/1.0\"}).get(\"when\")\n",
    "\n",
    "    letter_metadata = [letter_id, sender_name, sender_id, receiver_name, receiver_id, letter_date]\n",
    "\n",
    "    places = root.xpath(\"./tei:text/tei:body/tei:div[@type='content']//tei:placeName\", namespaces={\"tei\":\"http://www.tei-c.org/ns/1.0\"})\n",
    "\n",
    "    for place in places:\n",
    "        row = []  # in dieser Liste sammeln wir alle Infos zum jeweiligen Ort\n",
    "\n",
    "        row.extend(letter_metadata)\n",
    "\n",
    "        # etwas viel Code, aber räumt uns schön die Ortsnennung auf, auch bei Zeilenumbrüchen etc.\n",
    "        place_name = et.tostring(place, method=\"text\", encoding=\"utf8\", with_tail=False).decode(\"utf8\")\n",
    "        place_name = re.sub(r\"\\s*\\n\\s*\", \" \", place_name)\n",
    "        row.append(place_name)\n",
    "\n",
    "        place_id = place.get(\"key\")\n",
    "        row.append(place_id)\n",
    "\n",
    "        rows.append(row)\n",
    "\n",
    "print(rows[:3])"
   ]
  },
  {
   "cell_type": "markdown",
   "metadata": {},
   "source": [
    "Nun haben wir eine Liste mit einer Zeile pro gefundenem Ort, diese lässt sich nun sehr einfach in eine Tabelle umwandeln. Am besten ist der Umgang mit Tabellen im externen Package [*pandas*](https://pandas.pydata.org/) zu organisieren.\n",
    "\n",
    "Das Pandas-Package enthält eine grosse Auswahl von Operationen von tabellarischen Datensätzen, auf die aber hier erstmal nicht weiter eingegangen wird."
   ]
  },
  {
   "cell_type": "code",
   "execution_count": null,
   "metadata": {},
   "outputs": [],
   "source": [
    "# installieren von pandas\n",
    "%pip install -U pandas"
   ]
  },
  {
   "cell_type": "code",
   "execution_count": null,
   "metadata": {},
   "outputs": [],
   "source": [
    "import pandas as pd\n",
    "\n",
    "columns = ['letter_id', 'sender_name', 'sender_key', 'receiver_name', 'receiver_key', 'date', 'place_name', 'place_key']\n",
    "\n",
    "df = pd.DataFrame(rows, columns=columns)\n",
    "\n",
    "print(df.head)"
   ]
  },
  {
   "cell_type": "code",
   "execution_count": null,
   "metadata": {},
   "outputs": [],
   "source": [
    "# speichern der Tabelle als CSV\n",
    "df.to_csv('places.csv', index=False)"
   ]
  }
 ],
 "metadata": {
  "kernelspec": {
   "display_name": "base",
   "language": "python",
   "name": "python3"
  },
  "language_info": {
   "codemirror_mode": {
    "name": "ipython",
    "version": 3
   },
   "file_extension": ".py",
   "mimetype": "text/x-python",
   "name": "python",
   "nbconvert_exporter": "python",
   "pygments_lexer": "ipython3",
   "version": "3.7.6"
  }
 },
 "nbformat": 4,
 "nbformat_minor": 2
}
