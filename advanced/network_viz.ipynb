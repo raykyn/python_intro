{
 "cells": [
  {
   "cell_type": "markdown",
   "metadata": {},
   "source": [
    "# Netzwerkvisualisierung mit Python\n",
    "In diesem Beispiel bilden wir Netzwerke ab, die auf der Nennung von Personen im jeweils gleichen Brief beruhen.\n",
    "\n",
    "Um eine Netzwerkvisualisierung zu erstellen, wollen wir Daten in einem quasi-tabellarischen Format:\n",
    "- Knoten A\n",
    "- Knoten B\n",
    "\n",
    "Weitere Infos könnten sein, wie häufig zwei Knoten verbunden sind, von welcher Art die Verbindung ist, etc."
   ]
  },
  {
   "cell_type": "code",
   "execution_count": null,
   "metadata": {},
   "outputs": [],
   "source": [
    "# import der relevanten Bibliotheken\n",
    "from lxml import etree as et\n",
    "import glob\n",
    "import re"
   ]
  },
  {
   "cell_type": "code",
   "execution_count": null,
   "metadata": {},
   "outputs": [],
   "source": [
    "# für jeden Brief, halte alle Verbindungen im Brief fest\n",
    "import itertools\n",
    "from collections import Counter\n",
    "\n",
    "all_pairs = []\n",
    "\n",
    "for letter in glob.glob(\"docs/*.xml\"):\n",
    "    tree = et.parse(letter)\n",
    "    root = tree.getroot()\n",
    "\n",
    "    person_keys = root.xpath(\"./tei:text/tei:body/tei:div[@type='content']//tei:persName/@key\", namespaces={\"tei\":\"http://www.tei-c.org/ns/1.0\"})\n",
    "\n",
    "    unique_keys = set(person_keys)\n",
    "    \n",
    "    # indem wir die Liste sortieren stellen wir sicher, dass unsere Paare ungerichtet gezählt werden können\n",
    "    person_keys = sorted(unique_keys)\n",
    "    \n",
    "    pairs = list(itertools.combinations(person_keys, 2))\n",
    "    \n",
    "    all_pairs.extend(pairs)\n",
    "\n",
    "counted_pairs = Counter(all_pairs)\n",
    "\n",
    "print(counted_pairs.most_common())"
   ]
  },
  {
   "cell_type": "markdown",
   "metadata": {},
   "source": [
    "Wir haben nun alle Kanten samt ihrer Häufigkeit. Wir könnten diese nun abspeichern und in einem externen Programm, z.B. Palladio oder Gephi weiterverarbeiten. Aber in dem Fall machen wir direkt in Python weiter! Mit [*pyvis*](https://pyvis.readthedocs.io/en/latest/) können interaktive Graphen generiert werden, die man sich dann im Browser ansehen kann."
   ]
  },
  {
   "cell_type": "code",
   "execution_count": null,
   "metadata": {},
   "outputs": [],
   "source": [
    "# Installiere Pyvis\n",
    "%pip install -U pyvis"
   ]
  },
  {
   "cell_type": "code",
   "execution_count": null,
   "metadata": {},
   "outputs": [],
   "source": [
    "from pyvis.network import Network\n",
    "\n",
    "# Initialisiere ein Netzwerk-Objekt\n",
    "net = Network(notebook=True, cdn_resources=\"remote\")\n",
    "\n",
    "# Füge unsere Kanten samt Gewichten dem Netzwerk hinzu\n",
    "for pair, weight in counted_pairs.most_common():\n",
    "    # Stelle sicher, dass die Knoten existieren\n",
    "    for node in pair:\n",
    "        net.add_node(node, title=node)\n",
    "    \n",
    "    # Füge die Kanten hinzu mit der Häufigkeit als Gewichtung\n",
    "    net.add_edge(pair[0], pair[1], value=weight)\n",
    "\n",
    "net.force_atlas_2based()  # Erstelle den Graph mit einem Physik-System\n",
    "net.show_buttons(filter_=[\"physics\"])  # Zeige ein UI an, mit dem man das System anpassen kann\n",
    "\n",
    "# Schreibe eine HTML-Datei, die man im Browser öffnen kann.\n",
    "net.show(\"interactive_network.html\")\n"
   ]
  },
  {
   "cell_type": "markdown",
   "metadata": {},
   "source": [
    "Nun sind leider die Personen nur durch ihren Key wiedergegeben, aber vielleicht können wir das wettmachen, in dem wir implementieren, dass ein Click auf einen Knoten die Seite der Person im Register öffnet!"
   ]
  },
  {
   "cell_type": "code",
   "execution_count": 22,
   "metadata": {},
   "outputs": [
    {
     "name": "stdout",
     "output_type": "stream",
     "text": [
      "interactive_network.html\n"
     ]
    },
    {
     "data": {
      "text/html": [
       "\n",
       "        <iframe\n",
       "            width=\"100%\"\n",
       "            height=\"600px\"\n",
       "            src=\"interactive_network.html\"\n",
       "            frameborder=\"0\"\n",
       "            allowfullscreen\n",
       "        ></iframe>\n",
       "        "
      ],
      "text/plain": [
       "<IPython.lib.display.IFrame at 0x23b25112148>"
      ]
     },
     "execution_count": 22,
     "metadata": {},
     "output_type": "execute_result"
    }
   ],
   "source": [
    "from pyvis.network import Network\n",
    "\n",
    "# Initialisiere ein Netzwerk-Objekt\n",
    "net = Network(notebook=True, cdn_resources=\"remote\")\n",
    "\n",
    "# Füge unsere Kanten samt Gewichten dem Netzwerk hinzu\n",
    "for pair, weight in counted_pairs.most_common():\n",
    "    # Stelle sicher, dass die Knoten existieren\n",
    "    for node in pair:\n",
    "        net.add_node(node, title=node, url=\"https://sturm-edition.de/register/personen/\" + node + \".html\")\n",
    "    \n",
    "    # Füge die Kanten hinzu mit der Häufigkeit als Gewichtung\n",
    "    net.add_edge(pair[0], pair[1], value=weight)\n",
    "\n",
    "net.force_atlas_2based()  # Erstelle den Graph mit einem Physik-System\n",
    "net.show_buttons(filter_=[\"physics\"])  # Zeige ein UI an, mit dem man das System anpassen kann\n",
    "\n",
    "# Schreibe eine HTML-Datei, die man im Browser öffnen kann.\n",
    "net.show(\"interactive_network.html\")\n"
   ]
  }
 ],
 "metadata": {
  "kernelspec": {
   "display_name": "base",
   "language": "python",
   "name": "python3"
  },
  "language_info": {
   "codemirror_mode": {
    "name": "ipython",
    "version": 3
   },
   "file_extension": ".py",
   "mimetype": "text/x-python",
   "name": "python",
   "nbconvert_exporter": "python",
   "pygments_lexer": "ipython3",
   "version": "3.7.6"
  }
 },
 "nbformat": 4,
 "nbformat_minor": 2
}
