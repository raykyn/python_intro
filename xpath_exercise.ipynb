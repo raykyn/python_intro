{
  "cells": [
    {
      "cell_type": "markdown",
      "metadata": {
        "id": "bYzUMjeK2QyI"
      },
      "source": [
        "# XPath-Übungen"
      ]
    },
    {
      "cell_type": "code",
      "execution_count": null,
      "metadata": {},
      "outputs": [],
      "source": [
        "# installiere lxml\n",
        "%pip install -U lxml"
      ]
    },
    {
      "cell_type": "code",
      "execution_count": null,
      "metadata": {
        "id": "q9YhoI3j2S5G"
      },
      "outputs": [],
      "source": [
        "from lxml import etree as et\n",
        "\n",
        "xml = \"\"\"\n",
        "<Document id=\"6cf8e140-d8aa-44c4-a331-2826725b3cd6_20240705\">\n",
        "  <Header pages=\"8\" year=\"1554\"\n",
        "    text=\"Thoman Wytstetter der Hafner und seine Frau Adelheita,&#10;verkaufen an Bonaventura von Brum, den gwandtman, und seine&#10;Frau Mergeli Harnasch, ein Krutgertli, zu Steinen vorstatt,&#10;usserhalp dem steinen steg, zu einer sidten am Birsich,&#10;und sunst an allen siten an der Allmendt glegen ist, um&#10;43 fl.&#10;zinst jährl. gmeiner Statt von eigenschaft wegen 3 sh. sonst&#10;frey.\"\n",
        "    imagelinks=\"https://files.transkribus.eu/Get?id=XZPAHDBGYRGJNZYJUUMGSWJL&amp;fileType=view\"\n",
        "    language=\"german\" />\n",
        "  <Body><Reference id=\"0\" entity_type=\"per\" mention_subtype=\"\" confidence=\"0.999008059501648\">\n",
        "      <Head>Thoman\n",
        "        Wytstetter\n",
        "      </Head>\n",
        "      <Attribute id=\"13\" entity_type=\"per\" mention_subtype=\"occ\" confidence=\"0.9998096823692322\" normalization=\"hafner\">der <Head>\n",
        "    Hafner\n",
        "      </Head></Attribute>\n",
        "    </Reference>und <Reference id=\"1\" entity_type=\"per\"\n",
        "      mention_subtype=\"\" confidence=\"0.8912417491277059\">\n",
        "      <Attribute id=\"15\" entity_type=\"per\" mention_subtype=\"fam\" confidence=\"0.9996481537818909\">\n",
        "        <Reference id=\"17\" entity_type=\"per\" mention_subtype=\"\" confidence=\"0.999983549118042\">\n",
        "          <Head>seine\n",
        "          </Head>\n",
        "        </Reference>\n",
        "        <Head>Frau\n",
        "        </Head>\n",
        "      </Attribute>\n",
        "      <Head>Adelheita\n",
        "      </Head>\n",
        "    </Reference>, <Span id=\"2\" type=\"transaction\"\n",
        "      confidence=\"0.9999889135360718\">verkaufen\n",
        "    </Span>an <Reference id=\"3\" entity_type=\"per\" mention_subtype=\"\"\n",
        "      confidence=\"0.9416706363360087\"><Head>Bonaventura\n",
        "        von\n",
        "        Brum\n",
        "      </Head>, <Attribute id=\"21\" entity_type=\"per\"\n",
        "        mention_subtype=\"occ\" confidence=\"0.9990177750587463\" normalization=\"gewandmann\">den <Head>gwandtman\n",
        "        </Head></Attribute></Reference>, und <Reference id=\"4\" entity_type=\"per\"\n",
        "      mention_subtype=\"\" confidence=\"0.9715826660394669\">\n",
        "      <Attribute id=\"23\" entity_type=\"per\" mention_subtype=\"fam\" confidence=\"0.9997265040874481\">\n",
        "        <Reference id=\"25\" entity_type=\"per\" mention_subtype=\"\" confidence=\"0.999983549118042\">\n",
        "          <Head>seine\n",
        "          </Head>\n",
        "        </Reference>\n",
        "        <Head>Frau\n",
        "        </Head>\n",
        "      </Attribute>\n",
        "      <Head>Mergeli\n",
        "        Harnasch\n",
        "      </Head>\n",
        "    </Reference>, <Reference id=\"5\" entity_type=\"loc\"\n",
        "      mention_subtype=\"\" confidence=\"0.9596413927418845\">ein <Head>Krutgertli\n",
        "      </Head>, <Descriptor id=\"29\" desc_type=\"loc\" confidence=\"0.9313591933250427\">\n",
        "    zu\n",
        "      <Reference id=\"30\" entity_type=\"loc\" mention_subtype=\"\" confidence=\"0.9997359216213226\">\n",
        "          <Head>Steinen\n",
        "            vorstatt\n",
        "          </Head>\n",
        "        </Reference>, usserhalp <Reference id=\"31\"\n",
        "          entity_type=\"loc\" mention_subtype=\"\" confidence=\"0.9937734206517538\">dem <Head>steinen\n",
        "            steg\n",
        "          </Head></Reference>, zu einer sidten <Reference id=\"32\"\n",
        "          entity_type=\"loc\" mention_subtype=\"\" confidence=\"0.8750780820846558\">am <Head>Birsich\n",
        "          </Head></Reference>, und sunst an allen siten an <Reference id=\"33\"\n",
        "          entity_type=\"loc\" mention_subtype=\"\" confidence=\"0.7758396863937378\">der <Head>Allmendt\n",
        "          </Head></Reference>glegen ist </Descriptor></Reference>, um <Value id=\"6\"\n",
        "      value_type=\"money\" confidence=\"0.9999382893244425\">43\n",
        "      fl\n",
        "      .\n",
        "    </Value><Span id=\"7\" type=\"due\" confidence=\"0.9995150566101074\">zinst\n",
        "    </Span><Value id=\"8\" value_type=\"time.rec\" confidence=\"0.9988629817962646\">jährl\n",
        "      .\n",
        "    </Value><Reference id=\"9\" entity_type=\"org\" mention_subtype=\"\"\n",
        "      confidence=\"0.5630244463682175\">\n",
        "      <Head>gmeiner\n",
        "        Statt\n",
        "      </Head>\n",
        "    </Reference><Span id=\"10\" type=\"cause\"\n",
        "      confidence=\"0.9586005210876465\">von <Span id=\"39\" type=\"cause\" confidence=\"0.5205978751182556\">\n",
        "    eigenschaft\n",
        "      </Span></Span>wegen <Value id=\"11\" value_type=\"money\"\n",
        "      confidence=\"0.9995774825414022\">3\n",
        "      sh\n",
        "      .\n",
        "    </Value>sonst frey . </Body>\n",
        "  <Standoff>\n",
        "    <Events>\n",
        "      <Event id=\"2\" type=\"sale\" anchor=\"self\">\n",
        "        <Trigger ref=\"2\" start=\"9\" end=\"10\" text=\"verkaufen\" confidence=\"0.9708906412124634\" />\n",
        "        <Subevent>\n",
        "          <Role type=\"seller\" ref=\"0\" text=\"Thoman Wytstetter der Hafner\"\n",
        "            confidence=\"0.9991256594657898\" />\n",
        "          <Role type=\"seller\" ref=\"1\" text=\"seine Frau Adelheita\" confidence=\"0.9985224604606628\" />\n",
        "          <Role type=\"buyer\" ref=\"3\" text=\"Bonaventura von Brum , den gwandtman\"\n",
        "            confidence=\"0.9979573488235474\" />\n",
        "          <Role type=\"buyer\" ref=\"4\" text=\"seine Frau Mergeli Harnasch\"\n",
        "            confidence=\"0.9944605827331543\" />\n",
        "          <Role type=\"property\" ref=\"5\"\n",
        "            text=\"ein Krutgertli , zu Steinen vorstatt , usserhalp dem steinen steg , zu einer sidten am Birsich , und sunst an allen siten an der Allmendt glegen ist\"\n",
        "            confidence=\"0.9975806474685669\" />\n",
        "          <Role type=\"price\" ref=\"6\" text=\"43 fl .\" confidence=\"0.9954574108123779\" />\n",
        "        </Subevent>\n",
        "      </Event>\n",
        "      <Event id=\"7\" type=\"due\" anchor=\"self\">\n",
        "        <Trigger ref=\"7\" start=\"57\" end=\"58\" text=\"zinst\" confidence=\"0.9999982118606567\" />\n",
        "        <Subevent>\n",
        "          <Role type=\"date-interval\" ref=\"8\" text=\"jährl .\" confidence=\"0.9993703961372375\" />\n",
        "          <Role type=\"beneficiary\" ref=\"9\" text=\"gmeiner Statt\" confidence=\"0.9989727735519409\" />\n",
        "          <Role type=\"cause\" ref=\"10\" text=\"von eigenschaft\" confidence=\"0.9994087219238281\" />\n",
        "          <Role type=\"interest\" ref=\"11\" text=\"3 sh .\" confidence=\"0.9910258650779724\" />\n",
        "        </Subevent>\n",
        "      </Event>\n",
        "    </Events>\n",
        "    <Relations>\n",
        "      <Relation rel_type=\"fam\" from_mention=\"15\" to_mention=\"17\" />\n",
        "      <Relation rel_type=\"fam\" from_mention=\"23\" to_mention=\"25\" />\n",
        "      <Relation rel_type=\"loc\" from_mention=\"29\" to_mention=\"30\" />\n",
        "      <Relation rel_type=\"loc\" from_mention=\"29\" to_mention=\"31\" />\n",
        "      <Relation rel_type=\"loc\" from_mention=\"29\" to_mention=\"32\" />\n",
        "      <Relation rel_type=\"loc\" from_mention=\"29\" to_mention=\"33\" />\n",
        "    </Relations>\n",
        "  </Standoff>\n",
        "</Document>\n",
        "\"\"\"\n",
        "\n",
        "root = et.fromstring(xml)"
      ]
    },
    {
      "cell_type": "markdown",
      "metadata": {
        "id": "8nHQ9pH819Cj"
      },
      "source": [
        "# Teil 1: XML durchsuchen mittels XPath\n",
        "\n",
        "Cheatsheet:\n",
        "https://devhints.io/xpath\n",
        "\n",
        "Beachtet, dass die Variable `root` auf das Document-Element verweist."
      ]
    },
    {
      "cell_type": "code",
      "execution_count": null,
      "metadata": {
        "colab": {
          "base_uri": "https://localhost:8080/"
        },
        "id": "BFC1BJWh15U3",
        "outputId": "54de5260-88ec-4b73-a270-a7987c75ef23"
      },
      "outputs": [],
      "source": [
        "# Aufgabe 1: Gib eine Liste aller \"Head\"-Texte aus.\n",
        "heads = root.xpath(\"XPath\")\n",
        "for head in heads:\n",
        "    print(\"=\"*80)\n",
        "    print(et.tostring(head, encoding=\"utf8\").decode(\"utf8\"))"
      ]
    },
    {
      "cell_type": "code",
      "execution_count": null,
      "metadata": {
        "id": "uT64d0Zc3dzK"
      },
      "outputs": [],
      "source": [
        "# Aufgabe 2: Gib den Text aller Erwähnungen von Geldwerten aus, also Value-Element mit value_type 'money'.\n",
        "monetary_values = root.xpath(\"XPath\")\n",
        "for value in monetary_values:\n",
        "    print(\"=\"*80)\n",
        "    print(et.tostring(value, encoding=\"utf8\").decode(\"utf8\"))"
      ]
    },
    {
      "cell_type": "code",
      "execution_count": null,
      "metadata": {
        "id": "T3zAM5sV3ry-"
      },
      "outputs": [],
      "source": [
        "# Aufgabe 3: Gib alle Entitätenerwähnungen (Reference-Elemente) aus, die mit einer confidence von weniger als 0.8 erkannt wurden\n",
        "low_confidence = root.xpath(\"XPath\")\n",
        "for entity in low_confidence:\n",
        "    print(\"=\"*80)\n",
        "    print(et.tostring(entity, encoding=\"utf8\").decode(\"utf8\"))"
      ]
    },
    {
      "cell_type": "code",
      "execution_count": null,
      "metadata": {
        "id": "EpWvB0V061Fv"
      },
      "outputs": [],
      "source": [
        "# Aufgabe 4: Gib alle Entitätenerwähnungen (Reference-Elemente) aus, die als Teil einer Standortbeschreibung (Descriptor-Element mit desc_type 'loc') genannt werden:\n",
        "places = root.xpath(\"XPath\")\n",
        "for place in places:\n",
        "    print(\"=\"*80)\n",
        "    print(et.tostring(place, encoding=\"utf8\").decode(\"utf8\"))"
      ]
    },
    {
      "cell_type": "markdown",
      "metadata": {
        "id": "Dmd7t8FQ2A-9"
      },
      "source": [
        "# Teil 2: Einbezug von Standoff"
      ]
    },
    {
      "cell_type": "code",
      "execution_count": null,
      "metadata": {
        "id": "brobmrFg40vp"
      },
      "outputs": [],
      "source": [
        "# Aufgabe 5: Generiere eine Liste mit allen normalisierten Berufen, die ein Verkäufer oder Käufer in einer Transaktion in diesem Dokument hat.\n",
        "normalized_jobs = []\n",
        "# Schritt 1: Erstelle eine Liste aller Verkäufer und Käufer\n",
        "sellers_and_buyers = root.xpath(\"XPath\")\n",
        "print(sellers_and_buyers)"
      ]
    },
    {
      "cell_type": "code",
      "execution_count": null,
      "metadata": {
        "id": "UTEbBznd9B8y"
      },
      "outputs": [],
      "source": [
        "for seller_buyer in sellers_and_buyers:\n",
        "    # Schritt 2: Hole die Referenz-ID vom Seller/Buyer\n",
        "    # Dein Code hier\n",
        "    # Schritt 3: Suche nach dem Element mit der entsprechenden ID im Body des Elements (String Formatting notwendig), dann greife auf dessen Attribut zu\n",
        "    # du kannst diesen Schritt auch über mehrere XPath-Suchen aufteilen.\n",
        "    corresponding_entity = root.xpath(\"XPath\")\n",
        "    # Schritt 4 (oder als Teil von Schritt 3): Hole dir den Wert des Normalisierungs-Attributs\n",
        "    # normalized_job = ?? # Dein Code hier\n",
        "\n",
        "    # Schritt 5: Hinzufügen zur Liste\n",
        "    normalized_jobs.append(normalized_job)"
      ]
    },
    {
      "cell_type": "markdown",
      "metadata": {
        "id": "kloxsfWZ6mir"
      },
      "source": [
        "# Teil 3: Dokumente filtern\n",
        "Bei einem einzigen Dokument irrelevant, aber wichtig, wenn wir wie im Demo-Notebook das ganze Korpus durchgehen. Wir wollen evtl. nur bestimmte Korpora berücksichtigen."
      ]
    },
    {
      "cell_type": "code",
      "execution_count": null,
      "metadata": {
        "id": "l9Hw8kMe7CH1"
      },
      "outputs": [],
      "source": [
        "# Aufgabe 6: Überprüfe mittels XPath ob das Dokument ein \"sale\"-Event enthält\n",
        "is_sale = root.xpath(\"XPath\")\n",
        "print(bool(is_sale))"
      ]
    }
  ],
  "metadata": {
    "colab": {
      "provenance": []
    },
    "kernelspec": {
      "display_name": "HistArbeit",
      "language": "python",
      "name": "python3"
    },
    "language_info": {
      "codemirror_mode": {
        "name": "ipython",
        "version": 3
      },
      "file_extension": ".py",
      "mimetype": "text/x-python",
      "name": "python",
      "nbconvert_exporter": "python",
      "pygments_lexer": "ipython3",
      "version": "3.9.7"
    }
  },
  "nbformat": 4,
  "nbformat_minor": 0
}
