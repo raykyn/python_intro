{
 "cells": [
  {
   "cell_type": "markdown",
   "metadata": {},
   "source": [
    "# Repetition Python-Grundlagen"
   ]
  },
  {
   "cell_type": "markdown",
   "metadata": {},
   "source": [
    "Welche der folgenden Ausdrücke führen zu einem Fehler? Wieso?\n",
    "\n",
    "```\n",
    "True = \"wahr\"\n",
    "\n",
    "firstname, lastname = \"Hans Müller\".split()\n",
    "\n",
    "5_animals = [\"hare\", \"elephant\", \"eagle\", \"antilope\", \"whale\"]\n",
    "```"
   ]
  },
  {
   "cell_type": "markdown",
   "metadata": {},
   "source": [
    "Was ist die Ausgabe dieses Codes?\n",
    "\n",
    "```\n",
    "text = \"Programmieren\"\n",
    "print(text[3:8])\n",
    "```"
   ]
  },
  {
   "cell_type": "markdown",
   "metadata": {},
   "source": [
    "Was ist die Ausgabe dieses Codes?\n",
    "\n",
    "```\n",
    "result = \"8\" * 4\n",
    "print(result)\n",
    "```"
   ]
  },
  {
   "cell_type": "markdown",
   "metadata": {},
   "source": [
    "Was ist die Ausgabe dieses Codes?\n",
    "\n",
    "```\n",
    "b = 6\n",
    "c = b\n",
    "b -= 3\n",
    "\n",
    "print(b)\n",
    "print(c)\n",
    "```"
   ]
  },
  {
   "cell_type": "markdown",
   "metadata": {},
   "source": [
    "Was ist die Ausgabe dieses Codes?\n",
    "\n",
    "```\n",
    "a = True\n",
    "b = False\n",
    "c = True\n",
    "\n",
    "print(a and not b or not c)\n",
    "```"
   ]
  },
  {
   "cell_type": "markdown",
   "metadata": {},
   "source": [
    "Was ist die Ausgabe dieses Codes?\n",
    "\n",
    "```\n",
    "x = 10\n",
    "\n",
    "def check_value():\n",
    "    if x > 5:\n",
    "        x = 20\n",
    "    else:\n",
    "        x = 0\n",
    "    print(x)\n",
    "\n",
    "check_value()\n",
    "```"
   ]
  },
  {
   "cell_type": "markdown",
   "metadata": {},
   "source": [
    "Was ist die Ausgabe dieses Codes?\n",
    "\n",
    "```\n",
    "numbers = [1, 2, 3, 4]\n",
    "total = 0\n",
    "\n",
    "for num in numbers:\n",
    "    total += num\n",
    "    if num == 2:\n",
    "        break\n",
    "\n",
    "print(total)\n",
    "```"
   ]
  },
  {
   "cell_type": "markdown",
   "metadata": {},
   "source": [
    "Was ist die Ausgabe dieses Codes?\n",
    "\n",
    "```\n",
    "a = [\"Apple\", \"Banana\", \"Orange\"]\n",
    "b = a\n",
    "b.append(\"Cucumber\")\n",
    "\n",
    "print(a)\n",
    "print(b)\n",
    "```"
   ]
  },
  {
   "cell_type": "markdown",
   "metadata": {},
   "source": [
    "Was ist die Ausgabe dieses Codes?\n",
    "\n",
    "```\n",
    "a = (\"Apple\", \"Banana\", \"Orange\")\n",
    "b = a\n",
    "b += (\"Cucumber\",)\n",
    "\n",
    "print(a)\n",
    "print(b)\n",
    "```"
   ]
  },
  {
   "cell_type": "markdown",
   "metadata": {},
   "source": [
    "Erkläre, in welcher Situation eine Liste, ein Tuple oder ein Set zu bevorzugen ist."
   ]
  },
  {
   "cell_type": "markdown",
   "metadata": {},
   "source": [
    "Was ist die Ausgabe dieses Codes?\n",
    "\n",
    "```\n",
    "my_dict = {'a': 1, 'b': 2, 'c': 3, 'd': 4}\n",
    "\n",
    "my_dict['d'] = my_dict['b'] + my_dict['c']\n",
    "my_dict['a'] = my_dict['e'] + my_dict['d']\n",
    "\n",
    "print(my_dict)\n",
    "```"
   ]
  }
 ],
 "metadata": {
  "kernelspec": {
   "display_name": "HistArbeit",
   "language": "python",
   "name": "python3"
  },
  "language_info": {
   "codemirror_mode": {
    "name": "ipython",
    "version": 3
   },
   "file_extension": ".py",
   "mimetype": "text/x-python",
   "name": "python",
   "nbconvert_exporter": "python",
   "pygments_lexer": "ipython3",
   "version": "3.9.7"
  }
 },
 "nbformat": 4,
 "nbformat_minor": 2
}
