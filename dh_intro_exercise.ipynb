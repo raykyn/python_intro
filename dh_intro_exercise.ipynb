{
 "cells": [
  {
   "cell_type": "markdown",
   "metadata": {},
   "source": [
    "# Übung 1: Code anpassen\n",
    "\n",
    "Eine gute Übung um zu sehen, ob man Code versteht, ist ihn etwas anzupassen.\n",
    "Kopieren Sie die relevanten Bausteine aus Intro.ipynb und passen Sie sie an um \n",
    "1. Alle Briefe von Jacoba van Heemskerck herunterzuladen.\n",
    "2. Suchen Sie nach einem Tag im XML, den Sie interessant finden, und suchen Sie diesen heraus anstatt dem salute-Tag.\n",
    "\n",
    "Dann erweitern Sie den Code um folgendes Element:\n",
    "\n",
    "3. Bevor im XML gesucht wird, soll gefiltert werden können nach einer Jahreszahl\n",
    "    a. Definieren Sie dazu zwei neue Variabeln für das früheste und späteste Jahr, nach dem gefiltert werden soll.\n",
    "    b. Suchen Sie per XPath eines der Elemente mit der Datumsangabe des Briefes heraus, extrahieren Sie daraus die Jahreszahl.\n",
    "    c. Verwenden Sie einen if-else-Ausdruck um Briefe zu überspringen, die nicht in der definierten Spanne liegen.\n",
    "    d. Prüfen Sie, dass Ihre Filter funktioniert."
   ]
  },
  {
   "cell_type": "code",
   "execution_count": null,
   "metadata": {
    "vscode": {
     "languageId": "plaintext"
    }
   },
   "outputs": [],
   "source": []
  }
 ],
 "metadata": {
  "language_info": {
   "name": "python"
  }
 },
 "nbformat": 4,
 "nbformat_minor": 2
}
